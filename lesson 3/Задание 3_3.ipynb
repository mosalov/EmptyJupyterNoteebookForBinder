{
 "cells": [
  {
   "cell_type": "code",
   "execution_count": 1,
   "metadata": {},
   "outputs": [
    {
     "name": "stdout",
     "output_type": "stream",
     "text": [
      "['Р', 'о', 'м', 'а', 'н']\n",
      "['Р', 'а', 'м', 'н', 'о']\n",
      "['а', 'н', 'Р', 'а', 'м', 'н', 'о']\n"
     ]
    }
   ],
   "source": [
    "name = list([\"Р\",\"о\",\"м\",\"а\",\"н\"])\n",
    "sort_name = name.copy()\n",
    "sort_name.sort()\n",
    "union_list = name[3:] + sort_name\n",
    "print(name, sort_name, union_list, sep='\\n')"
   ]
  },
  {
   "cell_type": "code",
   "execution_count": null,
   "metadata": {},
   "outputs": [],
   "source": []
  }
 ],
 "metadata": {
  "kernelspec": {
   "display_name": "Python 3",
   "language": "python",
   "name": "python3"
  },
  "language_info": {
   "codemirror_mode": {
    "name": "ipython",
    "version": 3
   },
   "file_extension": ".py",
   "mimetype": "text/x-python",
   "name": "python",
   "nbconvert_exporter": "python",
   "pygments_lexer": "ipython3",
   "version": "3.7.6"
  }
 },
 "nbformat": 4,
 "nbformat_minor": 2
}
