{
 "cells": [
  {
   "cell_type": "code",
   "execution_count": null,
   "metadata": {},
   "outputs": [],
   "source": [
    "Напишите функцию, которая принимает на вход список натуральных чисел и возвращает словарь,\n",
    "в котором ключами являются элементы входного списка, а значениями — кортежи простых чисел, меньших или равных ключу."
   ]
  },
  {
   "cell_type": "code",
   "execution_count": null,
   "metadata": {},
   "outputs": [],
   "source": [
    "def ld(x):\n",
    "    x.sort()\n",
    "    my_dict={0:0}\n",
    "    xx=x\n",
    "    my_tuple=tuple(xx)\n",
    "    for e in xx:\n",
    "          my_dict[e] = my_tuple[0:e:1]\n",
    "    return my_dict\n",
    "\n",
    "my_list=[6,5,4,3,2,1]\n",
    "print(ld(my_list))"
   ]
  }
 ],
 "metadata": {
  "kernelspec": {
   "display_name": "Python 3",
   "language": "python",
   "name": "python3"
  },
  "language_info": {
   "codemirror_mode": {
    "name": "ipython",
    "version": 3
   },
   "file_extension": ".py",
   "mimetype": "text/x-python",
   "name": "python",
   "nbconvert_exporter": "python",
   "pygments_lexer": "ipython3",
   "version": "3.7.6"
  }
 },
 "nbformat": 4,
 "nbformat_minor": 2
}
