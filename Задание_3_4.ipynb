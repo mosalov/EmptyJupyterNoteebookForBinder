{
 "cells": [
  {
   "cell_type": "code",
   "execution_count": 12,
   "metadata": {},
   "outputs": [
    {
     "name": "stdout",
     "output_type": "stream",
     "text": [
      "{1: 10, 'abc': 'def', 0: [0, 1, 2], (0, 1): 'a'}\n",
      "{1: 15, 'abc': 'def', 0: [0, 1, 2], (0, 1): 'a'}\n",
      "{1: 15, 'abc': 'defdef', 0: [0, 1, 2], (0, 1): 'a'}\n",
      "{1: 15, 'abc': 'defdef', 0: [0, 1, 2, 3], (0, 1): 'a'}\n",
      "{1: 15, 'abc': 'defdef', 0: [1, 2, 3], (0, 1): 'a'}\n",
      "{1: 15, 'abc': 'defdef', 0: [1, 2, 3]}\n"
     ]
    }
   ],
   "source": [
    "My_dict = {}\n",
    "\n",
    "My_dict [1] = 10\n",
    "My_dict ['abc'] = 'def'\n",
    "My_dict [0] = [0,1,2]\n",
    "My_dict [(0,1)] = 'a'\n",
    "print (My_dict)\n",
    "\n",
    "My_dict [1] +=5\n",
    "print (My_dict)\n",
    "\n",
    "\n",
    "My_dict ['abc'] += 'def'\n",
    "print (My_dict)\n",
    "\n",
    "\n",
    "My_dict[0].append (3)\n",
    "print (My_dict)\n",
    "\n",
    "\n",
    "My_dict[0].pop (0)\n",
    "print (My_dict)\n",
    "\n",
    "del My_dict[(0,1)]\n",
    "print (My_dict)"
   ]
  },
  {
   "cell_type": "code",
   "execution_count": null,
   "metadata": {},
   "outputs": [],
   "source": []
  }
 ],
 "metadata": {
  "kernelspec": {
   "display_name": "Python 3",
   "language": "python",
   "name": "python3"
  },
  "language_info": {
   "codemirror_mode": {
    "name": "ipython",
    "version": 3
   },
   "file_extension": ".py",
   "mimetype": "text/x-python",
   "name": "python",
   "nbconvert_exporter": "python",
   "pygments_lexer": "ipython3",
   "version": "3.7.6"
  }
 },
 "nbformat": 4,
 "nbformat_minor": 2
}
