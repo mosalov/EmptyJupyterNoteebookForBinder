{
 "cells": [
  {
   "cell_type": "code",
   "execution_count": 13,
   "metadata": {},
   "outputs": [
    {
     "name": "stdout",
     "output_type": "stream",
     "text": [
      "x+y = 35 \n",
      " x-y = -15 \n",
      " x*y = 250 \n",
      " x/y = 0.4\n",
      "4.918032786885246\n"
     ]
    }
   ],
   "source": [
    "x = 10\n",
    "y = 25\n",
    "print('x+y =',x+y,'\\n', 'x-y =',x-y,'\\n', 'x*y =',x*y,'\\n', 'x/y =',x/y)\n",
    "print(((x*x+y)*(y-1))/(x-y+y*y))"
   ]
  },
  {
   "cell_type": "code",
   "execution_count": null,
   "metadata": {},
   "outputs": [],
   "source": []
  }
 ],
 "metadata": {
  "kernelspec": {
   "display_name": "Python 3 (ipykernel)",
   "language": "python",
   "name": "python3"
  },
  "language_info": {
   "codemirror_mode": {
    "name": "ipython",
    "version": 3
   },
   "file_extension": ".py",
   "mimetype": "text/x-python",
   "name": "python",
   "nbconvert_exporter": "python",
   "pygments_lexer": "ipython3",
   "version": "3.7.10"
  }
 },
 "nbformat": 4,
 "nbformat_minor": 4
}
