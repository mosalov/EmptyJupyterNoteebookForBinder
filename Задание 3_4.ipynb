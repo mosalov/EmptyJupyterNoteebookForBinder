{
 "cells": [
  {
   "cell_type": "code",
   "execution_count": 30,
   "metadata": {},
   "outputs": [
    {
     "name": "stdout",
     "output_type": "stream",
     "text": [
      "[1, 4, 9, 16, 25, 36, 49, 64, 81, 100, 121, 144, 169, 196, 225, 256, 289, 324, 361, 400, 441, 484, 529, 576, 625, 676, 729, 784, 841, 900, 961]\n"
     ]
    }
   ],
   "source": [
    "my_list = [i**2 for i in range(1, 100) if i**2 < 1000]\n",
    "print(my_list)\n",
    "        \n",
    "\n"
   ]
  },
  {
   "cell_type": "code",
   "execution_count": 37,
   "metadata": {},
   "outputs": [
    {
     "name": "stdout",
     "output_type": "stream",
     "text": [
      "(1, 2, 3, 4, 5, 6, 7, 8, 9, 10, 11, 12, 13, 14, 15, 16, 17, 18, 19, 20)\n",
      "(5, 6, 7, 8, 9, 10, 11, 12, 13, 14, 15)\n",
      "(14, 15, 16, 17, 18, 19, 20)\n",
      "(7, 9, 11, 13)\n"
     ]
    }
   ],
   "source": [
    "my_tuple = tuple ( i for i in range(1, 21))\n",
    "print(my_tuple)\n",
    "\n",
    "my_tuple2 = my_tuple[4:15:1]\n",
    "print(my_tuple2)\n",
    "\n",
    "my_tuple3 = my_tuple[-7 :]\n",
    "print(my_tuple3)\n",
    "\n",
    "my_tuple4 = my_tuple[6:13:2]\n",
    "print(my_tuple4)\n",
    "        "
   ]
  },
  {
   "cell_type": "code",
   "execution_count": 62,
   "metadata": {},
   "outputs": [
    {
     "name": "stdout",
     "output_type": "stream",
     "text": [
      "['э', 'в', 'е', 'л', 'и', 'н', 'а']\n",
      "['э', 'в', 'е', 'л', 'и', 'н', 'а']\n",
      "['а', 'в', 'е', 'и', 'л', 'н', 'э']\n",
      "['э', 'в', 'е', 'л', 'и', 'н', 'а', 'а', 'в', 'е', 'и', 'л', 'н', 'э']\n",
      "['л', 'и', 'н', 'а', 'а', 'в', 'е', 'и', 'л', 'н', 'э']\n"
     ]
    }
   ],
   "source": [
    "my_list = list ('эвелина')\n",
    "print(my_list)\n",
    "\n",
    "my_list2 = my_list.copy()\n",
    "print(my_list2)\n",
    "\n",
    "my_list2.sort()\n",
    "print(my_list2)\n",
    "\n",
    "my_list3 = my_list + my_list2\n",
    "print(my_list3)\n",
    "\n",
    "for i in range(0, 3, 1):\n",
    "    my_list3.pop(i-i) \n",
    "print(my_list3)"
   ]
  },
  {
   "cell_type": "code",
   "execution_count": 73,
   "metadata": {},
   "outputs": [
    {
     "name": "stdout",
     "output_type": "stream",
     "text": [
      "{1: 15, 'abc': 'defdef', 0: [1, 2, 3], (0, 1): 'a'}\n"
     ]
    }
   ],
   "source": [
    "my_dict = {}\n",
    "\n",
    "my_dict[1] = 10\n",
    "my_dict['abc'] = 'def'\n",
    "my_dict[0] = [0, 1, 2]\n",
    "my_dict[(0, 1)] = 'a'\n",
    "\n",
    "my_dict[1] += 5\n",
    "my_dict['abc'] += 'def'\n",
    "my_dict[0].append(3)\n",
    "my_dict[0].pop(0)\n",
    "\n",
    "print(my_dict)\n"
   ]
  },
  {
   "cell_type": "code",
   "execution_count": null,
   "metadata": {},
   "outputs": [],
   "source": []
  }
 ],
 "metadata": {
  "kernelspec": {
   "display_name": "Python 3",
   "language": "python",
   "name": "python3"
  },
  "language_info": {
   "codemirror_mode": {
    "name": "ipython",
    "version": 3
   },
   "file_extension": ".py",
   "mimetype": "text/x-python",
   "name": "python",
   "nbconvert_exporter": "python",
   "pygments_lexer": "ipython3",
   "version": "3.7.6"
  }
 },
 "nbformat": 4,
 "nbformat_minor": 2
}
