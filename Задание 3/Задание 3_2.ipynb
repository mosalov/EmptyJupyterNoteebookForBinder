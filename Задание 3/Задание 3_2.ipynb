{
 "cells": [
  {
   "cell_type": "code",
   "execution_count": 18,
   "metadata": {},
   "outputs": [
    {
     "name": "stdout",
     "output_type": "stream",
     "text": [
      "(1, 2, 3, 4, 5, 6, 7, 8, 9, 10, 11, 12, 13, 14, 15, 16, 17, 18, 19, 20) \n",
      "\n",
      "(5, 6, 7, 8, 9, 10, 11, 12, 13, 14, 15) \n",
      "\n",
      "(14, 15, 16, 17, 18, 19, 20) \n",
      "\n",
      "(7, 9, 11, 13) \n",
      "\n"
     ]
    }
   ],
   "source": [
    "my_list = []\n",
    "for i in range(1,21,1):\n",
    "    my_list.append(i) \n",
    "my_tuple = tuple(my_list) \n",
    "sl1_tuple = my_tuple[4:15:1]\n",
    "sl2_tuple = my_tuple[-7:]\n",
    "sl3_tuple = my_tuple[6:13:2]\n",
    "print(my_tuple,'\\n')\n",
    "print(sl1_tuple,'\\n')\n",
    "print(sl2_tuple,'\\n')\n",
    "print(sl3_tuple,'\\n')"
   ]
  },
  {
   "cell_type": "code",
   "execution_count": null,
   "metadata": {},
   "outputs": [],
   "source": []
  }
 ],
 "metadata": {
  "kernelspec": {
   "display_name": "Python 3",
   "language": "python",
   "name": "python3"
  },
  "language_info": {
   "codemirror_mode": {
    "name": "ipython",
    "version": 3
   },
   "file_extension": ".py",
   "mimetype": "text/x-python",
   "name": "python",
   "nbconvert_exporter": "python",
   "pygments_lexer": "ipython3",
   "version": "3.7.6"
  }
 },
 "nbformat": 4,
 "nbformat_minor": 2
}
