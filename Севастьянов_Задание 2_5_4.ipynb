{
 "cells": [
  {
   "cell_type": "code",
   "execution_count": 1,
   "metadata": {},
   "outputs": [
    {
     "name": "stdout",
     "output_type": "stream",
     "text": [
      "2 меньше 5\n",
      "4 меньше 5\n",
      "6 больше 5\n",
      "8 больше 5\n",
      "10 больше 5\n"
     ]
    }
   ],
   "source": [
    "list = [2,4,6,8,10]\n",
    "for i in list:\n",
    "    if i<5:\n",
    "        print(i,'меньше 5')\n",
    "    if i==5:\n",
    "        print(i, 'равно 5')\n",
    "    if i>5:\n",
    "        print(i, 'больше 5')"
   ]
  },
  {
   "cell_type": "code",
   "execution_count": null,
   "metadata": {},
   "outputs": [],
   "source": []
  }
 ],
 "metadata": {
  "kernelspec": {
   "display_name": "Python 3 (ipykernel)",
   "language": "python",
   "name": "python3"
  },
  "language_info": {
   "codemirror_mode": {
    "name": "ipython",
    "version": 3
   },
   "file_extension": ".py",
   "mimetype": "text/x-python",
   "name": "python",
   "nbconvert_exporter": "python",
   "pygments_lexer": "ipython3",
   "version": "3.7.10"
  }
 },
 "nbformat": 4,
 "nbformat_minor": 4
}
