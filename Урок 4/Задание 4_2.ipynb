{
 "cells": [
  {
   "cell_type": "code",
   "execution_count": 17,
   "metadata": {
    "collapsed": true,
    "pycharm": {
     "is_executing": false
    }
   },
   "outputs": [
    {
     "name": "stdout",
     "text": [
      "   Число  Квадрат\n",
      "0      1        1\n",
      "1      2        4\n",
      "2      3        9\n",
      "3      4       16\n",
      "4      5       25\n",
      "5      6       36\n",
      "6      7       49\n",
      "7      8       64\n",
      "8      9       81\n",
      "9     10      100\n",
      "   Число  Квадрат\n",
      "1      2        4\n",
      "3      4       16\n",
      "5      6       36\n",
      "7      8       64\n",
      "9     10      100\n"
     ],
     "output_type": "stream"
    }
   ],
   "source": [
    "import numpy as np\n",
    "import pandas as pd\n",
    "\n",
    "df = pd.DataFrame()\n",
    "df['Число'] = range(1,11)\n",
    "df['Квадрат'] = np.square(df['Число'])\n",
    "df2 = df[df['Число'] % 2 == 0]\n",
    "print(df, df2, sep='\\n')\n",
    "\n"
   ]
  }
 ],
 "metadata": {
  "kernelspec": {
   "display_name": "Python 3",
   "language": "python",
   "name": "python3"
  },
  "language_info": {
   "codemirror_mode": {
    "name": "ipython",
    "version": 2
   },
   "file_extension": ".py",
   "mimetype": "text/x-python",
   "name": "python",
   "nbconvert_exporter": "python",
   "pygments_lexer": "ipython2",
   "version": "2.7.6"
  },
  "pycharm": {
   "stem_cell": {
    "cell_type": "raw",
    "source": [],
    "metadata": {
     "collapsed": false
    }
   }
  }
 },
 "nbformat": 4,
 "nbformat_minor": 0
}