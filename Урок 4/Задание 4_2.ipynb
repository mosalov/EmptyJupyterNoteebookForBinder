{
 "cells": [
  {
   "cell_type": "code",
   "execution_count": null,
   "metadata": {},
   "outputs": [],
   "source": [
    "import numpy\n",
    "import pandas\n",
    "import matplotlib.pyplot\n",
    "df = pandas.DataFrame()\n",
    "df.insert(0,'Число',(range(1,11)))\n",
    "df.insert(1,'Квадрат',df['Число']*df['Число'])\n",
    "df_2=df.loc[df['Число']%2==0]\n",
    "df_2=df_2.drop(['Число'], axis='columns')\n",
    "#del df_2['Число']\n",
    "print(df_2)\n",
    "\n",
    " Квадрат\n",
    "1        4\n",
    "3       16\n",
    "5       36\n",
    "7       64\n",
    "9      100"
   ]
  },
  {
   "cell_type": "code",
   "execution_count": null,
   "metadata": {},
   "outputs": [],
   "source": []
  }
 ],
 "metadata": {
  "kernelspec": {
   "display_name": "Python 3",
   "language": "python",
   "name": "python3"
  },
  "language_info": {
   "codemirror_mode": {
    "name": "ipython",
    "version": 3
   },
   "file_extension": ".py",
   "mimetype": "text/x-python",
   "name": "python",
   "nbconvert_exporter": "python",
   "pygments_lexer": "ipython3",
   "version": "3.7.6"
  }
 },
 "nbformat": 4,
 "nbformat_minor": 2
}
