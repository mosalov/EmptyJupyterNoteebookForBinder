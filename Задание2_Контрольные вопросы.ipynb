{
 "cells": [
  {
   "cell_type": "code",
   "execution_count": null,
   "metadata": {},
   "outputs": [],
   "source": [
    "Реализуйте код, который по значению n вычисляет факториал n, т.е. n! = 1 * 2 * … * (n-1) * n. "
   ]
  },
  {
   "cell_type": "code",
   "execution_count": 52,
   "metadata": {},
   "outputs": [
    {
     "name": "stdout",
     "output_type": "stream",
     "text": [
      "120\n"
     ]
    }
   ],
   "source": [
    "def fact(x): \n",
    "    d=1\n",
    "    if x>1: d=x*fact(x-1)\n",
    "    return d\n",
    "x = 5\n",
    "print(fact(x))"
   ]
  },
  {
   "cell_type": "code",
   "execution_count": 53,
   "metadata": {},
   "outputs": [
    {
     "name": "stdout",
     "output_type": "stream",
     "text": [
      "3628800\n"
     ]
    }
   ],
   "source": [
    "def fact(x): \n",
    "    d=1\n",
    "    if x>1: d=x*fact(x-1)\n",
    "    return d\n",
    "x = 10\n",
    "print(fact(x))"
   ]
  },
  {
   "cell_type": "code",
   "execution_count": null,
   "metadata": {},
   "outputs": [],
   "source": [
    "Реализуйте код, который по значению p проверяет, является ли p простым числом"
   ]
  },
  {
   "cell_type": "code",
   "execution_count": 72,
   "metadata": {},
   "outputs": [
    {
     "name": "stdout",
     "output_type": "stream",
     "text": [
      "число  -2  -  не является простым \n",
      "\n",
      "число  -1  -  не является простым \n",
      "\n",
      "число  0  -  не является простым \n",
      "\n",
      "число  1  -  не является простым \n",
      "\n",
      "число  2  -  простое \n",
      "\n",
      "число  3  -  простое \n",
      "\n",
      "число  4  -  не является простым \n",
      "\n",
      "число  5  -  простое \n",
      "\n",
      "число  6  -  не является простым \n",
      "\n",
      "число  7  -  простое \n",
      "\n",
      "число  8  -  не является простым \n",
      "\n",
      "число  9  -  не является простым \n",
      "\n",
      "число  10  -  не является простым \n",
      "\n",
      "число  11  -  простое \n",
      "\n",
      "число  12  -  не является простым \n",
      "\n",
      "число  13  -  простое \n",
      "\n",
      "число  14  -  не является простым \n",
      "\n"
     ]
    }
   ],
   "source": [
    "def prov(p):\n",
    "    st = 'простое'\n",
    "    if p <=1: st='не является простым'\n",
    "    else:\n",
    "        for e in range (2,p,1):\n",
    "             if p%e==0: st='не является простым'\n",
    "    return st\n",
    "p=[-2,-1,0,1,2,3,4,5,6,7,8,9,10,11,12,13,14]\n",
    "for x in p:\n",
    "        print('число ', x, ' - ',prov(x),'\\n')"
   ]
  }
 ],
 "metadata": {
  "kernelspec": {
   "display_name": "Python 3",
   "language": "python",
   "name": "python3"
  },
  "language_info": {
   "codemirror_mode": {
    "name": "ipython",
    "version": 3
   },
   "file_extension": ".py",
   "mimetype": "text/x-python",
   "name": "python",
   "nbconvert_exporter": "python",
   "pygments_lexer": "ipython3",
   "version": "3.7.6"
  }
 },
 "nbformat": 4,
 "nbformat_minor": 2
}
