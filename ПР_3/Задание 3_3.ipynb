{
 "cells": [
  {
   "cell_type": "code",
   "execution_count": 5,
   "metadata": {},
   "outputs": [
    {
     "name": "stdout",
     "output_type": "stream",
     "text": [
      "['Т', 'и', 'м', 'у', 'р']\n",
      "['Т', 'и', 'м', 'р', 'у']\n",
      "['у', 'р', 'Т', 'и', 'м', 'р', 'у']\n"
     ]
    }
   ],
   "source": [
    "name = list([\"Т\",\"и\",\"м\",\"у\",\"р\"])\n",
    "sort_name = name.copy()\n",
    "sort_name.sort()\n",
    "union_list = name[3:] + sort_name\n",
    "print(name, sort_name, union_list, sep='\\n')"
   ]
  },
  {
   "cell_type": "code",
   "execution_count": null,
   "metadata": {},
   "outputs": [],
   "source": []
  }
 ],
 "metadata": {
  "kernelspec": {
   "display_name": "Python 3",
   "language": "python",
   "name": "python3"
  },
  "language_info": {
   "codemirror_mode": {
    "name": "ipython",
    "version": 3
   },
   "file_extension": ".py",
   "mimetype": "text/x-python",
   "name": "python",
   "nbconvert_exporter": "python",
   "pygments_lexer": "ipython3",
   "version": "3.7.6"
  }
 },
 "nbformat": 4,
 "nbformat_minor": 2
}
